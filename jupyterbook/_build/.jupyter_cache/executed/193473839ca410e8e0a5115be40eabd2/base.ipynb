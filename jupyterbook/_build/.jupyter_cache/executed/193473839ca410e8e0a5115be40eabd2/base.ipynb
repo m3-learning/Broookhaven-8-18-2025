{
 "cells": [
  {
   "cell_type": "code",
   "execution_count": 1,
   "metadata": {
    "colab": {
     "base_uri": "https://localhost:8080/"
    },
    "id": "zJ8uRw_KWeLp",
    "outputId": "222e23c3-dc96-4b6f-c97b-974cab4d2787",
    "tags": [
     "skip-execution"
    ]
   },
   "outputs": [
    {
     "name": "stdout",
     "output_type": "stream",
     "text": [
      "Requirement already satisfied: datafed in /Users/joshuaagar/anaconda3/envs/isaf/lib/python3.11/site-packages (3.0.3)\n",
      "Requirement already satisfied: pwinput in /Users/joshuaagar/anaconda3/envs/isaf/lib/python3.11/site-packages (1.0.3)\n",
      "Requirement already satisfied: click>=7 in /Users/joshuaagar/anaconda3/envs/isaf/lib/python3.11/site-packages (from datafed) (8.2.1)\n",
      "Requirement already satisfied: prompt-toolkit>=2 in /Users/joshuaagar/anaconda3/envs/isaf/lib/python3.11/site-packages (from datafed) (3.0.51)\n",
      "Requirement already satisfied: protobuf>=5.27.1 in /Users/joshuaagar/anaconda3/envs/isaf/lib/python3.11/site-packages (from datafed) (6.31.1)\n",
      "Requirement already satisfied: pyzmq>=16 in /Users/joshuaagar/anaconda3/envs/isaf/lib/python3.11/site-packages (from datafed) (27.0.0)\n",
      "Requirement already satisfied: requests>=2 in /Users/joshuaagar/anaconda3/envs/isaf/lib/python3.11/site-packages (from datafed) (2.32.4)\n",
      "Requirement already satisfied: wget>=3 in /Users/joshuaagar/anaconda3/envs/isaf/lib/python3.11/site-packages (from datafed) (3.2)\n",
      "Requirement already satisfied: wcwidth in /Users/joshuaagar/anaconda3/envs/isaf/lib/python3.11/site-packages (from prompt-toolkit>=2->datafed) (0.2.13)\n",
      "Requirement already satisfied: charset_normalizer<4,>=2 in /Users/joshuaagar/anaconda3/envs/isaf/lib/python3.11/site-packages (from requests>=2->datafed) (3.4.2)\n",
      "Requirement already satisfied: idna<4,>=2.5 in /Users/joshuaagar/anaconda3/envs/isaf/lib/python3.11/site-packages (from requests>=2->datafed) (3.10)\n",
      "Requirement already satisfied: urllib3<3,>=1.21.1 in /Users/joshuaagar/anaconda3/envs/isaf/lib/python3.11/site-packages (from requests>=2->datafed) (2.5.0)\n",
      "Requirement already satisfied: certifi>=2017.4.17 in /Users/joshuaagar/anaconda3/envs/isaf/lib/python3.11/site-packages (from requests>=2->datafed) (2025.6.15)\n"
     ]
    }
   ],
   "source": [
    "! pip install datafed pwinput"
   ]
  },
  {
   "cell_type": "code",
   "execution_count": 2,
   "metadata": {
    "colab": {
     "base_uri": "https://localhost:8080/"
    },
    "id": "E7gZaSNcfmMq",
    "outputId": "647a347f-ce1d-4170-8b48-cea9c86de5ae",
    "tags": [
     "skip-execution"
    ]
   },
   "outputs": [
    {
     "name": "stdout",
     "output_type": "stream",
     "text": [
      "3.0.3\n"
     ]
    },
    {
     "ename": "Exception",
     "evalue": "Timeout!!!!!!!!!",
     "output_type": "error",
     "traceback": [
      "\u001b[31m---------------------------------------------------------------------------\u001b[39m",
      "\u001b[31mException\u001b[39m                                 Traceback (most recent call last)",
      "\u001b[36mCell\u001b[39m\u001b[36m \u001b[39m\u001b[32mIn[2]\u001b[39m\u001b[32m, line 12\u001b[39m\n\u001b[32m      9\u001b[39m \u001b[38;5;28;01mfrom\u001b[39;00m\u001b[38;5;250m \u001b[39m\u001b[34;01mdatafed\u001b[39;00m\u001b[38;5;250m \u001b[39m\u001b[38;5;28;01mimport\u001b[39;00m version \u001b[38;5;28;01mas\u001b[39;00m df_ver\n\u001b[32m     11\u001b[39m \u001b[38;5;28mprint\u001b[39m(df_ver)\n\u001b[32m---> \u001b[39m\u001b[32m12\u001b[39m df_api = \u001b[43mAPI\u001b[49m\u001b[43m(\u001b[49m\u001b[43m)\u001b[49m\n",
      "\u001b[36mFile \u001b[39m\u001b[32m~/anaconda3/envs/isaf/lib/python3.11/site-packages/datafed/CommandLib.py:81\u001b[39m, in \u001b[36mAPI.__init__\u001b[39m\u001b[34m(self, opts)\u001b[39m\n\u001b[32m     78\u001b[39m \u001b[38;5;28mself\u001b[39m.cfg = Config.API(opts)\n\u001b[32m     79\u001b[39m _opts = \u001b[38;5;28mself\u001b[39m._setSaneDefaultOptions()\n\u001b[32m---> \u001b[39m\u001b[32m81\u001b[39m \u001b[38;5;28mself\u001b[39m._mapi = \u001b[43mMessageLib\u001b[49m\u001b[43m.\u001b[49m\u001b[43mAPI\u001b[49m\u001b[43m(\u001b[49m\u001b[43m*\u001b[49m\u001b[43m*\u001b[49m\u001b[43m_opts\u001b[49m\u001b[43m)\u001b[49m\n\u001b[32m     82\u001b[39m \u001b[38;5;28mself\u001b[39m._mapi.setNackExceptionEnabled(\u001b[38;5;28;01mTrue\u001b[39;00m)\n\u001b[32m     83\u001b[39m auth, uid = \u001b[38;5;28mself\u001b[39m._mapi.getAuthStatus()\n",
      "\u001b[36mFile \u001b[39m\u001b[32m~/anaconda3/envs/isaf/lib/python3.11/site-packages/datafed/MessageLib.py:194\u001b[39m, in \u001b[36mAPI.__init__\u001b[39m\u001b[34m(self, server_host, server_port, server_pub_key_file, server_pub_key, client_pub_key_file, client_pub_key, client_priv_key_file, client_priv_key, client_token, manual_auth, **kwargs)\u001b[39m\n\u001b[32m    191\u001b[39m                 \u001b[38;5;28mself\u001b[39m.new_client_avail = latest_version_on_pypi\n\u001b[32m    193\u001b[39m \u001b[38;5;66;03m# Check for compatible protocol versions\u001b[39;00m\n\u001b[32m--> \u001b[39m\u001b[32m194\u001b[39m reply, mt = \u001b[38;5;28;43mself\u001b[39;49m\u001b[43m.\u001b[49m\u001b[43msendRecv\u001b[49m\u001b[43m(\u001b[49m\u001b[43manon\u001b[49m\u001b[43m.\u001b[49m\u001b[43mVersionRequest\u001b[49m\u001b[43m(\u001b[49m\u001b[43m)\u001b[49m\u001b[43m,\u001b[49m\u001b[43m \u001b[49m\u001b[32;43m10000\u001b[39;49m\u001b[43m)\u001b[49m\n\u001b[32m    195\u001b[39m \u001b[38;5;28;01mif\u001b[39;00m reply \u001b[38;5;129;01mis\u001b[39;00m \u001b[38;5;28;01mNone\u001b[39;00m:\n\u001b[32m    196\u001b[39m     \u001b[38;5;28;01mraise\u001b[39;00m \u001b[38;5;167;01mException\u001b[39;00m(\n\u001b[32m    197\u001b[39m         \u001b[33m\"\u001b[39m\u001b[33mTimeout waiting for server connection. Make sure\u001b[39m\u001b[33m\"\u001b[39m\n\u001b[32m    198\u001b[39m         \u001b[33m\"\u001b[39m\u001b[33mthe right ports are open.\u001b[39m\u001b[33m\"\u001b[39m\n\u001b[32m    199\u001b[39m     )\n",
      "\u001b[36mFile \u001b[39m\u001b[32m~/anaconda3/envs/isaf/lib/python3.11/site-packages/datafed/MessageLib.py:357\u001b[39m, in \u001b[36mAPI.sendRecv\u001b[39m\u001b[34m(self, msg, timeout, nack_except)\u001b[39m\n\u001b[32m    355\u001b[39m reply, mt, ctxt = \u001b[38;5;28mself\u001b[39m.recv(_timeout, nack_except)\n\u001b[32m    356\u001b[39m \u001b[38;5;28;01mif\u001b[39;00m reply \u001b[38;5;129;01mis\u001b[39;00m \u001b[38;5;28;01mNone\u001b[39;00m:\n\u001b[32m--> \u001b[39m\u001b[32m357\u001b[39m     \u001b[38;5;28;01mraise\u001b[39;00m \u001b[38;5;167;01mException\u001b[39;00m(\u001b[33m\"\u001b[39m\u001b[33mTimeout!!!!!!!!!\u001b[39m\u001b[33m\"\u001b[39m)\n\u001b[32m    358\u001b[39m     \u001b[38;5;28;01mreturn\u001b[39;00m \u001b[38;5;28;01mNone\u001b[39;00m, \u001b[38;5;28;01mNone\u001b[39;00m\n\u001b[32m    359\u001b[39m \u001b[38;5;28;01mif\u001b[39;00m ctxt != \u001b[38;5;28mself\u001b[39m._ctxt:\n",
      "\u001b[31mException\u001b[39m: Timeout!!!!!!!!!"
     ]
    }
   ],
   "source": [
    "import os\n",
    "import json\n",
    "import getpass\n",
    "import subprocess\n",
    "from platform import platform\n",
    "import sys\n",
    "\n",
    "from datafed.CommandLib import API\n",
    "from datafed import version as df_ver\n",
    "\n",
    "print(df_ver)\n",
    "df_api = API()"
   ]
  },
  {
   "cell_type": "code",
   "execution_count": 3,
   "metadata": {
    "colab": {
     "base_uri": "https://localhost:8080/"
    },
    "id": "Vo74oHoof-L7",
    "outputId": "4f4b16ae-5ee9-470e-e173-e5e943588e53",
    "tags": [
     "skip-execution"
    ]
   },
   "outputs": [
    {
     "name": "stdout",
     "output_type": "stream",
     "text": [
      "··········\n"
     ]
    }
   ],
   "source": [
    "username = \"jca318\" # Replace this with your DataFed username\n",
    "password = getpass.getpass()"
   ]
  },
  {
   "cell_type": "code",
   "execution_count": 4,
   "metadata": {
    "colab": {
     "base_uri": "https://localhost:8080/"
    },
    "id": "DZDtX0ZBf5Dv",
    "outputId": "fe9b6288-7211-44eb-8426-407af84c289f",
    "tags": [
     "skip-execution"
    ]
   },
   "outputs": [
    {
     "name": "stdout",
     "output_type": "stream",
     "text": [
      "Success! You have been authenticated into \n",
      "DataFed as: u/jca318\n"
     ]
    }
   ],
   "source": [
    "if not df_api.getAuthUser():\n",
    " df_api.loginByPassword(username, password)\n",
    "\n",
    "print('Success! You have been authenticated into ')\n",
    "print('DataFed as: ' + df_api.getAuthUser())"
   ]
  },
  {
   "cell_type": "code",
   "execution_count": 5,
   "metadata": {
    "colab": {
     "base_uri": "https://localhost:8080/"
    },
    "id": "nVfkhvrIhMMu",
    "outputId": "b9ff9f31-6a36-4106-f150-79ea8c51d8fa",
    "tags": [
     "skip-execution"
    ]
   },
   "outputs": [
    {
     "name": "stdout",
     "output_type": "stream",
     "text": [
      "Your default Globus Endpoint in DataFed is:\n",
      "\n",
      "2c4afb2a-9aa3-11ec-bf8a-ab28bf5d96bb\n"
     ]
    }
   ],
   "source": [
    "if not df_api.endpointDefaultGet():\n",
    "  msg = '\\nPlease enter either the Endpoint UUID '\n",
    "  msg = msg + 'or Legacy Name for the Endpoint.\\n'\n",
    "  endpoint = input(msg)\n",
    "  df_api.endpointDefaultSet(endpoint)\n",
    "\n",
    "print('Your default Globus Endpoint in DataFed is:\\n')\n",
    "print(df_api.endpointDefaultGet())"
   ]
  },
  {
   "cell_type": "code",
   "execution_count": 6,
   "metadata": {
    "colab": {
     "base_uri": "https://localhost:8080/"
    },
    "id": "jbQXBt3VixcO",
    "outputId": "a47739a5-64be-46de-c447-54db779cc185",
    "tags": [
     "skip-execution"
    ]
   },
   "outputs": [
    {
     "data": {
      "text/plain": [
       "(ep: \"82f1b5c6-6e9b-11e5-ba47-22000b92c6ec/foundry/double_perovskite_bandgap_v1.1/\"\n",
       " ep: \"a527fc28-af9b-4096-ad01-38d7a0d66907@clients.auth.globus.org/foundry/double_perovskite_bandgap_v1.1/\"\n",
       " ep: \"a527fc28-af9b-4096-ad01-38d7a0d66907/foundry/double_perovskite_bandgap_v1.1/\"\n",
       " ep: \"globuspublish#mdf-publications/foundry/double_perovskite_bandgap_v1.1/\"\n",
       " ep: \"2c4afb2a-9aa3-11ec-bf8a-ab28bf5d96bb/Users/joshuaagar/Globus-Personal-Docker/\"\n",
       " ep: \"jca318#2c4afb2a-9aa3-11ec-bf8a-ab28bf5d96bb/\"\n",
       " ep: \"c1f3a4b6-2163-11e8-b75c-0ac6873fc732/ftp/archive/Model-Data/CICE/\"\n",
       " ep: \"jca318#74f05168-3567-11ed-89cd-ede5bae4f491/C/Users/Joshua Agar/Downloads/\"\n",
       " ep: \"0ee42578-7301-11ef-b769-0f922496edc5/home/jca92/Rapid-Fitting-BEPFM-NN/notebooks/\"\n",
       " ep: \"0ee42578-7301-11ef-b769-0f922496edc5/home/jca92/Rapid-Fitting-BEPFM-NN/notebooks/Trained Models/SHO Fitter/2024-11-21_16-08-47_nn_benchmarks_noise/\"\n",
       " ep: \"0ee42578-7301-11ef-b769-0f922496edc5/home/jca92/new-runner/actions-runner/_work/Fall_2024_679_Dev/Fall_2024_679_Dev/jupyterbook/topic_11/datapath/\"\n",
       " ep: \"0ee42578-7301-11ef-b769-0f922496edc5/home/jca92/Fall_2024_MEM679_dev/jupyterbook/topic_11/datapath/\"\n",
       " ep: \"0ee42578-7301-11ef-b769-0f922496edc5/home/jca92/Fall_2024_MEM679_dev/jupyterbook/topic_11/model/100124/weights/\"\n",
       " ep: \"0ee42578-7301-11ef-b769-0f922496edc5/home/jca92/Fall_2024_MEM679_dev/jupyterbook/topic_11/\"\n",
       " ep: \"d8fe2a92-9f8f-11ef-82e2-9b523453efe6/home/jupyteruser/datapath/cat_data/\"\n",
       " ep: \"d8fe2a92-9f8f-11ef-82e2-9b523453efe6/home/jupyteruser/datapath/\"\n",
       " ep: \"0ee42578-7301-11ef-b769-0f922496edc5/home/jca92/Fall_2024_MEM679_dev/jupyterbook/topic_11/datapath/cat_data/\"\n",
       " ep: \"jca318#0ee42578-7301-11ef-b769-0f922496edc5/home/jca92/Rapid-Fitting-BEPFM-NN/notebooks/Data/\"\n",
       " ep: \"0ee42578-7301-11ef-b769-0f922496edc5/home/jca92/Rapid-Fitting-BEPFM-NN/notebooks/Data/\"\n",
       " ep: \"0ee42578-7301-11ef-b769-0f922496edc5/home/jca92/Rapid-Fitting-BEPFM-NN/notebooks/Trained Models/SHO Fitter/2024-09-23_14-36-21_nn_benchmarks_noise/\",\n",
       " 'UserGetRecentEPReply')"
      ]
     },
     "execution_count": 6,
     "metadata": {},
     "output_type": "execute_result"
    }
   ],
   "source": [
    "df_api.endpointListRecent()"
   ]
  },
  {
   "cell_type": "code",
   "execution_count": 7,
   "metadata": {
    "colab": {
     "base_uri": "https://localhost:8080/",
     "height": 35
    },
    "id": "sKX2kpoOnO2D",
    "outputId": "a89e922c-bf68-4e99-cdfc-20e93ecaf182",
    "tags": [
     "skip-execution"
    ]
   },
   "outputs": [
    {
     "data": {
      "application/vnd.google.colaboratory.intrinsic+json": {
       "type": "string"
      },
      "text/plain": [
       "'u/jca318'"
      ]
     },
     "execution_count": 7,
     "metadata": {},
     "output_type": "execute_result"
    }
   ],
   "source": [
    "df_api.getContext()"
   ]
  },
  {
   "cell_type": "code",
   "execution_count": 9,
   "metadata": {
    "colab": {
     "base_uri": "https://localhost:8080/"
    },
    "id": "7mKHGazNn-3u",
    "outputId": "460b6f61-3400-4a22-959f-f470c9188de4",
    "tags": [
     "skip-execution"
    ]
   },
   "outputs": [
    {
     "data": {
      "text/plain": [
       "(item {\n",
       "   id: \"c/525610518\"\n",
       "   title: \"test1\"\n",
       "   owner: \"u/jca318\"\n",
       "   creator: \"u/jca318\"\n",
       "   notes: 0\n",
       " }\n",
       " item {\n",
       "   id: \"d/40404661\"\n",
       "   title: \"cleaned data_40404661\"\n",
       "   owner: \"u/jca318\"\n",
       "   creator: \"u/jca318\"\n",
       "   size: 1137144\n",
       "   notes: 0\n",
       " }\n",
       " item {\n",
       "   id: \"d/49965349\"\n",
       "   title: \"File record\"\n",
       "   owner: \"u/jca318\"\n",
       "   creator: \"u/jca318\"\n",
       "   size: 1703255\n",
       "   notes: 0\n",
       " }\n",
       " item {\n",
       "   id: \"d/40404593\"\n",
       "   title: \"my important data\"\n",
       "   owner: \"u/jca318\"\n",
       "   creator: \"u/jca318\"\n",
       "   size: 5620365\n",
       "   notes: 0\n",
       " }\n",
       " item {\n",
       "   id: \"d/40402331\"\n",
       "   title: \"Some new title for the data\"\n",
       "   alias: \"my_first_dataset\"\n",
       "   owner: \"u/jca318\"\n",
       "   creator: \"u/jca318\"\n",
       "   size: 622835\n",
       "   notes: 0\n",
       " }\n",
       " offset: 0\n",
       " count: 20\n",
       " total: 5,\n",
       " 'ListingReply')"
      ]
     },
     "execution_count": 9,
     "metadata": {},
     "output_type": "execute_result"
    }
   ],
   "source": [
    "# Here you will to put your username\n",
    "#df_api.collectionItemsList('root', context='p/training_project')\n",
    "# You can list contents of a sub collection by simply replacing 'root'\n",
    "# with the collection id. Because I am working in my default user context\n",
    "# I do not have to explicitly list the context. An equivalent command would be:\n",
    "#\n",
    "df_api.collectionItemsList('root')"
   ]
  },
  {
   "cell_type": "code",
   "execution_count": 10,
   "metadata": {
    "colab": {
     "base_uri": "https://localhost:8080/"
    },
    "id": "OXYNlBQ0omwq",
    "outputId": "6e20ac4c-d8b9-4f42-b67b-7283b0afd06b",
    "tags": [
     "skip-execution"
    ]
   },
   "outputs": [
    {
     "name": "stdout",
     "output_type": "stream",
     "text": [
      "Contents listed using collection id\n",
      "\n",
      "(item {\n",
      "  id: \"c/525610519\"\n",
      "  title: \"test_2\"\n",
      "  owner: \"u/jca318\"\n",
      "  creator: \"u/jca318\"\n",
      "  notes: 0\n",
      "}\n",
      "item {\n",
      "  id: \"d/525628510\"\n",
      "  title: \"test_pssc\"\n",
      "  owner: \"u/jca318\"\n",
      "  creator: \"u/jca318\"\n",
      "  size: 0\n",
      "  notes: 0\n",
      "}\n",
      "offset: 0\n",
      "count: 20\n",
      "total: 2\n",
      ", 'ListingReply')\n",
      "\n",
      "Contents listed using collection alias\n",
      "\n",
      "(item {\n",
      "  id: \"c/525610518\"\n",
      "  title: \"test1\"\n",
      "  owner: \"u/jca318\"\n",
      "  creator: \"u/jca318\"\n",
      "  notes: 0\n",
      "}\n",
      "item {\n",
      "  id: \"d/40404661\"\n",
      "  title: \"cleaned data_40404661\"\n",
      "  owner: \"u/jca318\"\n",
      "  creator: \"u/jca318\"\n",
      "  size: 1137144\n",
      "  notes: 0\n",
      "}\n",
      "item {\n",
      "  id: \"d/49965349\"\n",
      "  title: \"File record\"\n",
      "  owner: \"u/jca318\"\n",
      "  creator: \"u/jca318\"\n",
      "  size: 1703255\n",
      "  notes: 0\n",
      "}\n",
      "item {\n",
      "  id: \"d/40404593\"\n",
      "  title: \"my important data\"\n",
      "  owner: \"u/jca318\"\n",
      "  creator: \"u/jca318\"\n",
      "  size: 5620365\n",
      "  notes: 0\n",
      "}\n",
      "item {\n",
      "  id: \"d/40402331\"\n",
      "  title: \"Some new title for the data\"\n",
      "  alias: \"my_first_dataset\"\n",
      "  owner: \"u/jca318\"\n",
      "  creator: \"u/jca318\"\n",
      "  size: 622835\n",
      "  notes: 0\n",
      "}\n",
      "offset: 0\n",
      "count: 20\n",
      "total: 5\n",
      ", 'ListingReply')\n"
     ]
    }
   ],
   "source": [
    "print(\"Contents listed using collection id\\n\")\n",
    "# You will need to replace the collection id with one that appears in your user\n",
    "# account\n",
    "print(df_api.collectionItemsList('c/525610518'))\n",
    "print(\"\\nContents listed using collection alias\\n\")\n",
    "print(df_api.collectionItemsList(\"root\", context='u/' + username))"
   ]
  },
  {
   "cell_type": "code",
   "execution_count": 22,
   "metadata": {
    "colab": {
     "base_uri": "https://localhost:8080/",
     "height": 35
    },
    "id": "-2hB5y8ioNtA",
    "outputId": "64c3e2c0-07a9-4c3f-994e-6f0fad94c905",
    "tags": [
     "skip-execution"
    ]
   },
   "outputs": [
    {
     "data": {
      "application/vnd.google.colaboratory.intrinsic+json": {
       "type": "string"
      },
      "text/plain": [
       "'p/2025-isaf-pfm'"
      ]
     },
     "execution_count": 22,
     "metadata": {},
     "output_type": "execute_result"
    }
   ],
   "source": [
    "df_api.setContext('p/2025-isaf-pfm')\n",
    "df_api.getContext()"
   ]
  },
  {
   "cell_type": "code",
   "execution_count": 12,
   "metadata": {
    "colab": {
     "base_uri": "https://localhost:8080/"
    },
    "id": "LmIj4SMpqXK1",
    "outputId": "8c0c5ab9-dc1e-49bf-d52c-145289e36a81",
    "tags": [
     "skip-execution"
    ]
   },
   "outputs": [
    {
     "data": {
      "text/plain": [
       "(offset: 0\n",
       " count: 20\n",
       " total: 0,\n",
       " 'ListingReply')"
      ]
     },
     "execution_count": 12,
     "metadata": {},
     "output_type": "execute_result"
    }
   ],
   "source": [
    "df_api.collectionItemsList('root')"
   ]
  },
  {
   "cell_type": "code",
   "execution_count": null,
   "metadata": {
    "colab": {
     "base_uri": "https://localhost:8080/"
    },
    "id": "C_5n-mQ1qbcv",
    "outputId": "fa366a97-6807-4cc1-ac68-4720509ced9c",
    "tags": [
     "skip-execution"
    ]
   },
   "outputs": [
    {
     "name": "stdout",
     "output_type": "stream",
     "text": [
      "(coll {\n",
      "  id: \"c/525611208\"\n",
      "  title: \"jca318-2\"\n",
      "  alias: \"jca318-2\"\n",
      "  owner: \"p/2025-isaf-pfm\"\n",
      "  creator: \"u/jca318\"\n",
      "  ct: 1752337887\n",
      "  ut: 1752337887\n",
      "  parent_id: \"c/p_2025-isaf-pfm_root\"\n",
      "}\n",
      ", 'CollDataReply')\n",
      "\n",
      "Just the collection id.\n",
      "c/525611208\n"
     ]
    }
   ],
   "source": [
    "# If you get an error here it is likely that you have already created a\n",
    "# collection with the same alias\n",
    "col_result_username = df_api.collectionCreate(\n",
    "    title=username,\n",
    "    alias=username,\n",
    "    parent_id='c/p_2025-isaf-pfm_root')\n",
    "\n",
    "print(col_result_username)\n",
    "\n",
    "col_id_username = col_result_username[0].coll[0].id\n",
    "\n",
    "print('\\nJust the collection id.')\n",
    "print(col_id_username)"
   ]
  },
  {
   "cell_type": "code",
   "execution_count": 15,
   "metadata": {
    "id": "yRmrlzUxubgJ",
    "tags": [
     "skip-execution"
    ]
   },
   "outputs": [],
   "source": [
    "parameters = {\n",
    " 'testing_temperature': 90000,\n",
    " 'voltage': [1, 2, -4, 7.123],\n",
    " 'creator': 'Lex Luther',\n",
    " 'occupation': 'super villian',\n",
    " 'equipment_serial_numbers': {\n",
    "  'SEM': 14, # Can use nested dictionaries\n",
    "  'AFM': -19\n",
    "  }\n",
    " }\n"
   ]
  },
  {
   "cell_type": "code",
   "execution_count": 16,
   "metadata": {
    "colab": {
     "base_uri": "https://localhost:8080/"
    },
    "id": "Q_cNuLkrutIB",
    "outputId": "3215f2cf-2f9f-442f-b8b4-d28a4036b4f1",
    "tags": [
     "skip-execution"
    ]
   },
   "outputs": [
    {
     "data": {
      "text/plain": [
       "(data {\n",
       "   id: \"d/525680144\"\n",
       "   title: \"Kryptonite\"\n",
       "   alias: \"kryptonite_2jca318-2\"\n",
       "   tags: \"material\"\n",
       "   metadata: \"{\\\"creator\\\":\\\"Lex Luther\\\",\\\"equipment_serial_numbers\\\":{\\\"AFM\\\":-19,\\\"SEM\\\":14},\\\"occupation\\\":\\\"super villian\\\",\\\"testing_temperature\\\":90000,\\\"voltage\\\":[1,2,-4,7.123]}\"\n",
       "   repo_id: \"repo/lehigh-nhi\"\n",
       "   size: 0\n",
       "   ext_auto: true\n",
       "   ct: 1752337897\n",
       "   ut: 1752337897\n",
       "   owner: \"p/2025-isaf-pfm\"\n",
       "   creator: \"u/jca318\"\n",
       "   parent_id: \"c/525611208\"\n",
       " },\n",
       " 'RecordDataReply')"
      ]
     },
     "execution_count": 16,
     "metadata": {},
     "output_type": "execute_result"
    }
   ],
   "source": [
    "# Because we are working in a shared project we will append\n",
    "# our usernames to the alias to avoid name collisions\n",
    "dc_resp = df_api.dataCreate('Kryptonite', # title - required\n",
    " alias=\"kryptonite_2\" + username,\n",
    " metadata=json.dumps(parameters), # optional\n",
    " tags=[\"material\"],\n",
    " parent_id=col_id_username, # The parent collection\n",
    " )\n",
    "\n",
    "dc_resp"
   ]
  },
  {
   "cell_type": "code",
   "execution_count": 17,
   "metadata": {
    "id": "dVbYSUu860hq",
    "tags": [
     "skip-execution"
    ]
   },
   "outputs": [],
   "source": [
    "parameters = {\n",
    " 'testing_temperature': 900000,\n",
    " 'voltage': [1, 2, -4, 7.123],\n",
    " 'creator': 'Lex Luther',\n",
    " 'occupation': 'super villian',\n",
    " 'equipment_serial_numbers': {\n",
    "  'SEM': 14, # Can use nested dictionaries\n",
    "  'AFM': -19\n",
    "  }\n",
    " }"
   ]
  },
  {
   "cell_type": "code",
   "execution_count": 18,
   "metadata": {
    "colab": {
     "base_uri": "https://localhost:8080/"
    },
    "id": "v_-e3RVj65nL",
    "outputId": "b45414e8-6b8f-4718-80fa-382897998636",
    "tags": [
     "skip-execution"
    ]
   },
   "outputs": [
    {
     "data": {
      "text/plain": [
       "(data {\n",
       "   id: \"d/525680145\"\n",
       "   title: \"Public-data-record\"\n",
       "   alias: \"public-data-jca318-2\"\n",
       "   tags: \"material\"\n",
       "   metadata: \"{\\\"creator\\\":\\\"Lex Luther\\\",\\\"equipment_serial_numbers\\\":{\\\"AFM\\\":-19,\\\"SEM\\\":14},\\\"occupation\\\":\\\"super villian\\\",\\\"testing_temperature\\\":900000,\\\"voltage\\\":[1,2,-4,7.123]}\"\n",
       "   repo_id: \"repo/lehigh-nhi\"\n",
       "   size: 0\n",
       "   ext_auto: true\n",
       "   ct: 1752338045\n",
       "   ut: 1752338045\n",
       "   owner: \"p/2025-isaf-pfm\"\n",
       "   creator: \"u/jca318\"\n",
       "   parent_id: \"c/525611208\"\n",
       " },\n",
       " 'RecordDataReply')"
      ]
     },
     "execution_count": 18,
     "metadata": {},
     "output_type": "execute_result"
    }
   ],
   "source": [
    "# Because we are working in a shared project we will append\n",
    "# our usernames to the alias to avoid name collisions\n",
    "dc_resp = df_api.dataCreate('Public-data-record', # title - required\n",
    " alias=\"public-data-\" + username,\n",
    " metadata=json.dumps(parameters), # optional\n",
    " tags=[\"material\"],\n",
    " parent_id=col_id_username, # The parent collection\n",
    " )\n",
    "\n",
    "dc_resp"
   ]
  },
  {
   "cell_type": "code",
   "execution_count": 26,
   "metadata": {
    "colab": {
     "base_uri": "https://localhost:8080/"
    },
    "id": "L7655LdzZRdX",
    "outputId": "3c4ef2dd-322c-40e7-d11c-c0b56bb91236",
    "tags": [
     "skip-execution"
    ]
   },
   "outputs": [
    {
     "name": "stdout",
     "output_type": "stream",
     "text": [
      "(item {\n",
      "  id: \"d/525680145\"\n",
      "  title: \"Public-data-record\"\n",
      "  size: 0\n",
      "  owner: \"p/2025-isaf-pfm\"\n",
      "}\n",
      "task {\n",
      "  id: \"task/525870003\"\n",
      "  type: TT_DATA_PUT\n",
      "  status: TS_READY\n",
      "  client: \"u/jca318\"\n",
      "  step: 0\n",
      "  steps: 2\n",
      "  msg: \"Pending\"\n",
      "  ct: 1752339116\n",
      "  ut: 1752339116\n",
      "  source: \"82f1b5c6-6e9b-11e5-ba47-22000b92c6ec/foundry/double_perovskite_bandgap_v1.1/Dataset_double_perovskites_gap_v1.csv\"\n",
      "  dest: \"d/525680145\"\n",
      "}\n",
      ", 'DataPutReply')\n"
     ]
    }
   ],
   "source": [
    "endpoint = \"82f1b5c6-6e9b-11e5-ba47-22000b92c6ec\"\n",
    "path_to_file = \"/foundry/double_perovskite_bandgap_v1.1/Dataset_double_perovskites_gap_v1.csv\"\n",
    "\n",
    "response = df_api.dataPut(\"public-data-\" + username, endpoint + path_to_file)\n",
    "print(response)"
   ]
  },
  {
   "cell_type": "code",
   "execution_count": 27,
   "metadata": {
    "id": "UL5f2M1AlNmy",
    "tags": [
     "skip-execution"
    ]
   },
   "outputs": [],
   "source": [
    "import platform\n",
    "import os\n",
    "import psutil\n",
    "\n",
    "def get_system_parameters():\n",
    "    return {\n",
    "        'os': platform.system(),\n",
    "        'os_version': platform.version(),\n",
    "        'platform': platform.platform(),\n",
    "        'architecture': platform.machine(),\n",
    "        'processor': platform.processor(),\n",
    "        'cpu_count_logical': psutil.cpu_count(logical=True),\n",
    "        'cpu_count_physical': psutil.cpu_count(logical=False),\n",
    "        'memory_total_gb': round(psutil.virtual_memory().total / (1024 ** 3), 2),\n",
    "        'disk_total_gb': round(psutil.disk_usage('/').total / (1024 ** 3), 2),\n",
    "        'python_version': platform.python_version(),\n",
    "        'env_vars': dict(os.environ),  # You can filter this if too large\n",
    "    }\n",
    "\n",
    "sys_info = get_system_parameters()\n",
    "\n",
    "parameters = {\n",
    " 'testing_temperature': 1,\n",
    "  'system_parameters': get_system_parameters()\n",
    " }"
   ]
  },
  {
   "cell_type": "code",
   "execution_count": 28,
   "metadata": {
    "colab": {
     "base_uri": "https://localhost:8080/"
    },
    "id": "RnvQuVCqlu76",
    "outputId": "aa45ff4d-f8f6-432e-ac9b-b9885b4e120f",
    "tags": [
     "skip-execution"
    ]
   },
   "outputs": [
    {
     "data": {
      "text/plain": [
       "(data {\n",
       "   id: \"d/525680146\"\n",
       "   title: \"Public-data-record\"\n",
       "   alias: \"personal-data-jca318-2\"\n",
       "   tags: \"material\"\n",
       "   metadata: \"{\\\"system_parameters\\\":{\\\"architecture\\\":\\\"x86_64\\\",\\\"cpu_count_logical\\\":2,\\\"cpu_count_physical\\\":1,\\\"disk_total_gb\\\":107.72,\\\"env_vars\\\":{\\\"CGROUP_MEMORY_EVENTS\\\":\\\"/sys/fs/cgroup/memory.events /var/colab/cgroup/jupyter-children/memory.events\\\",\\\"CLICOLOR\\\":\\\"1\\\",\\\"CLOUDSDK_CONFIG\\\":\\\"/content/.config\\\",\\\"CLOUDSDK_PYTHON\\\":\\\"python3\\\",\\\"COLAB_BACKEND_VERSION\\\":\\\"next\\\",\\\"COLAB_DEBUG_ADAPTER_MUX_PATH\\\":\\\"/usr/local/bin/dap_multiplexer\\\",\\\"COLAB_FILE_HANDLER_ADDR\\\":\\\"localhost:3453\\\",\\\"COLAB_GPU\\\":\\\"\\\",\\\"COLAB_JUPYTER_IP\\\":\\\"172.28.0.12\\\",\\\"COLAB_JUPYTER_TOKEN\\\":\\\"\\\",\\\"COLAB_JUPYTER_TRANSPORT\\\":\\\"ipc\\\",\\\"COLAB_KERNEL_MANAGER_PROXY_HOST\\\":\\\"172.28.0.12\\\",\\\"COLAB_KERNEL_MANAGER_PROXY_PORT\\\":\\\"6000\\\",\\\"COLAB_LANGUAGE_SERVER_PROXY\\\":\\\"/usr/colab/bin/language_service\\\",\\\"COLAB_LANGUAGE_SERVER_PROXY_LSP_DIRS\\\":\\\"/datalab/web/pyright/typeshed-fallback/stdlib,/usr/local/lib/python3.10/dist-packages\\\",\\\"COLAB_LANGUAGE_SERVER_PROXY_REQUEST_TIMEOUT\\\":\\\"30s\\\",\\\"COLAB_LANGUAGE_SERVER_PROXY_ROOT_URL\\\":\\\"http://172.28.0.1:8013/\\\",\\\"COLAB_NOTEBOOK_ID\\\":\\\"1hr2lChiKXTdjbyrN5qKV3t9h6dvdRiXR\\\",\\\"COLAB_RELEASE_TAG\\\":\\\"release-colab_20250710-060046_RC00\\\",\\\"COLAB_TPU_1VM\\\":\\\"\\\",\\\"COLAB_WARMUP_DEFAULTS\\\":\\\"1\\\",\\\"CUDA_VERSION\\\":\\\"12.5.1\\\",\\\"DEBIAN_FRONTEND\\\":\\\"noninteractive\\\",\\\"ENABLE_DIRECTORYPREFETCHER\\\":\\\"1\\\",\\\"ENV\\\":\\\"/root/.bashrc\\\",\\\"GCE_METADATA_TIMEOUT\\\":\\\"3\\\",\\\"GCS_READ_CACHE_BLOCK_SIZE_MB\\\":\\\"16\\\",\\\"GIT_PAGER\\\":\\\"cat\\\",\\\"HOME\\\":\\\"/root\\\",\\\"HOSTNAME\\\":\\\"d9e3a223bfc2\\\",\\\"JPY_PARENT_PID\\\":\\\"90\\\",\\\"KMP_EXTRA_ARGS\\\":\\\"--logtostderr --listen_host=172.28.0.12 --target_host=172.28.0.12 --tunnel_background_save_url=https://colab.research.google.com/tun/m/cc48301118ce562b961b3c22d803539adc1e0c19/m-s-2dhx5aaf791r3 --tunnel_background_save_delay=10s --tunnel_periodic_background_save_frequency=30m0s --enable_output_coalescing=true --output_coalescing_required=true \\\",\\\"KMP_LISTEN_PORT\\\":\\\"6000\\\",\\\"KMP_TARGET_PORT\\\":\\\"9000\\\",\\\"LANG\\\":\\\"en_US.UTF-8\\\",\\\"LANGUAGE\\\":\\\"en_US\\\",\\\"LAST_FORCED_REBUILD\\\":\\\"20250623\\\",\\\"LC_ALL\\\":\\\"en_US.UTF-8\\\",\\\"LD_LIBRARY_PATH\\\":\\\"/usr/local/nvidia/lib:/usr/local/nvidia/lib64\\\",\\\"LIBRARY_PATH\\\":\\\"/usr/local/cuda/lib64/stubs\\\",\\\"MODEL_PROXY_HOST\\\":\\\"https://mp.kaggle.net\\\",\\\"MPLBACKEND\\\":\\\"module://matplotlib_inline.backend_inline\\\",\\\"NCCL_VERSION\\\":\\\"2.22.3-1\\\",\\\"NO_GCE_CHECK\\\":\\\"False\\\",\\\"NVARCH\\\":\\\"x86_64\\\",\\\"NVIDIA_DRIVER_CAPABILITIES\\\":\\\"compute,utility\\\",\\\"NVIDIA_PRODUCT_NAME\\\":\\\"CUDA\\\",\\\"NVIDIA_REQUIRE_CUDA\\\":\\\"cuda>=12.5 brand=unknown,driver>=470,driver<471 brand=grid,driver>=470,driver<471 brand=tesla,driver>=470,driver<471 brand=nvidia,driver>=470,driver<471 brand=quadro,driver>=470,driver<471 brand=quadrortx,driver>=470,driver<471 brand=nvidiartx,driver>=470,driver<471 brand=vapps,driver>=470,driver<471 brand=vpc,driver>=470,driver<471 brand=vcs,driver>=470,driver<471 brand=vws,driver>=470,driver<471 brand=cloudgaming,driver>=470,driver<471 brand=unknown,driver>=535,driver<536 brand=grid,driver>=535,driver<536 brand=tesla,driver>=535,driver<536 brand=nvidia,driver>=535,driver<536 brand=quadro,driver>=535,driver<536 brand=quadrortx,driver>=535,driver<536 brand=nvidiartx,driver>=535,driver<536 brand=vapps,driver>=535,driver<536 brand=vpc,driver>=535,driver<536 brand=vcs,driver>=535,driver<536 brand=vws,driver>=535,driver<536 brand=cloudgaming,driver>=535,driver<536 brand=unknown,driver>=550,driver<551 brand=grid,driver>=550,driver<551 brand=tesla,driver>=550,driver<551 brand=nvidia,driver>=550,driver<551 brand=quadro,driver>=550,driver<551 brand=quadrortx,driver>=550,driver<551 brand=nvidiartx,driver>=550,driver<551 brand=vapps,driver>=550,driver<551 brand=vpc,driver>=550,driver<551 brand=vcs,driver>=550,driver<551 brand=vws,driver>=550,driver<551 brand=cloudgaming,driver>=550,driver<551\\\",\\\"NVIDIA_VISIBLE_DEVICES\\\":\\\"all\\\",\\\"NV_CUDA_CUDART_DEV_VERSION\\\":\\\"12.5.82-1\\\",\\\"NV_CUDA_CUDART_VERSION\\\":\\\"12.5.82-1\\\",\\\"NV_CUDA_LIB_VERSION\\\":\\\"12.5.1-1\\\",\\\"NV_CUDA_NSIGHT_COMPUTE_DEV_PACKAGE\\\":\\\"cuda-nsight-compute-12-5=12.5.1-1\\\",\\\"NV_CUDA_NSIGHT_COMPUTE_VERSION\\\":\\\"12.5.1-1\\\",\\\"NV_CUDNN_PACKAGE\\\":\\\"libcudnn9-cuda-12=9.2.1.18-1\\\",\\\"NV_CUDNN_PACKAGE_DEV\\\":\\\"libcudnn9-dev-cuda-12=9.2.1.18-1\\\",\\\"NV_CUDNN_PACKAGE_NAME\\\":\\\"libcudnn9-cuda-12\\\",\\\"NV_CUDNN_VERSION\\\":\\\"9.2.1.18-1\\\",\\\"NV_LIBCUBLAS_DEV_PACKAGE\\\":\\\"libcublas-dev-12-5=12.5.3.2-1\\\",\\\"NV_LIBCUBLAS_DEV_PACKAGE_NAME\\\":\\\"libcublas-dev-12-5\\\",\\\"NV_LIBCUBLAS_DEV_VERSION\\\":\\\"12.5.3.2-1\\\",\\\"NV_LIBCUBLAS_PACKAGE\\\":\\\"libcublas-12-5=12.5.3.2-1\\\",\\\"NV_LIBCUBLAS_PACKAGE_NAME\\\":\\\"libcublas-12-5\\\",\\\"NV_LIBCUBLAS_VERSION\\\":\\\"12.5.3.2-1\\\",\\\"NV_LIBCUSPARSE_DEV_VERSION\\\":\\\"12.5.1.3-1\\\",\\\"NV_LIBCUSPARSE_VERSION\\\":\\\"12.5.1.3-1\\\",\\\"NV_LIBNCCL_DEV_PACKAGE\\\":\\\"libnccl-dev=2.22.3-1+cuda12.5\\\",\\\"NV_LIBNCCL_DEV_PACKAGE_NAME\\\":\\\"libnccl-dev\\\",\\\"NV_LIBNCCL_DEV_PACKAGE_VERSION\\\":\\\"2.22.3-1\\\",\\\"NV_LIBNCCL_PACKAGE\\\":\\\"libnccl2=2.22.3-1+cuda12.5\\\",\\\"NV_LIBNCCL_PACKAGE_NAME\\\":\\\"libnccl2\\\",\\\"NV_LIBNCCL_PACKAGE_VERSION\\\":\\\"2.22.3-1\\\",\\\"NV_LIBNPP_DEV_PACKAGE\\\":\\\"libnpp-dev-12-5=12.3.0.159-1\\\",\\\"NV_LIBNPP_DEV_VERSION\\\":\\\"12.3.0.159-1\\\",\\\"NV_LIBNPP_PACKAGE\\\":\\\"libnpp-12-5=12.3.0.159-1\\\",\\\"NV_LIBNPP_VERSION\\\":\\\"12.3.0.159-1\\\",\\\"NV_NVML_DEV_VERSION\\\":\\\"12.5.82-1\\\",\\\"NV_NVPROF_DEV_PACKAGE\\\":\\\"cuda-nvprof-12-5=12.5.82-1\\\",\\\"NV_NVPROF_VERSION\\\":\\\"12.5.82-1\\\",\\\"NV_NVTX_VERSION\\\":\\\"12.5.82-1\\\",\\\"OLDPWD\\\":\\\"/\\\",\\\"PAGER\\\":\\\"cat\\\",\\\"PATH\\\":\\\"/opt/bin:/usr/local/nvidia/bin:/usr/local/cuda/bin:/usr/local/sbin:/usr/local/bin:/usr/sbin:/usr/bin:/sbin:/bin:/tools/node/bin:/tools/google-cloud-sdk/bin\\\",\\\"PWD\\\":\\\"/\\\",\\\"PYDEVD_USE_FRAME_EVAL\\\":\\\"NO\\\",\\\"PYTHONPATH\\\":\\\"/env/python\\\",\\\"PYTHONUTF8\\\":\\\"1\\\",\\\"PYTHONWARNINGS\\\":\\\"ignore:::pip._internal.cli.base_command\\\",\\\"SHELL\\\":\\\"/bin/bash\\\",\\\"SHLVL\\\":\\\"0\\\",\\\"TBE_CREDS_ADDR\\\":\\\"172.28.0.1:8008\\\",\\\"TBE_EPHEM_CREDS_ADDR\\\":\\\"172.28.0.1:8009\\\",\\\"TBE_RUNTIME_ADDR\\\":\\\"172.28.0.1:8011\\\",\\\"TCLLIBPATH\\\":\\\"/usr/share/tcltk/tcllib1.20\\\",\\\"TERM\\\":\\\"xterm-color\\\",\\\"TF_FORCE_GPU_ALLOW_GROWTH\\\":\\\"true\\\",\\\"USE_AUTH_EPHEM\\\":\\\"1\\\",\\\"UV_BUILD_CONSTRAINT\\\":\\\"\\\",\\\"UV_CONSTRAINT\\\":\\\"\\\",\\\"UV_INSTALL_DIR\\\":\\\"/usr/local/bin\\\",\\\"UV_SYSTEM_PYTHON\\\":\\\"true\\\",\\\"VM_GCE_METADATA_HOST\\\":\\\"169.254.169.253\\\",\\\"_PYVIZ_COMMS_INSTALLED\\\":\\\"1\\\"},\\\"memory_total_gb\\\":12.67,\\\"os\\\":\\\"Linux\\\",\\\"os_version\\\":\\\"#1 SMP PREEMPT_DYNAMIC Sun Mar 30 16:01:29 UTC 2025\\\",\\\"platform\\\":\\\"Linux-6.1.123+-x86_64-with-glibc2.35\\\",\\\"processor\\\":\\\"x86_64\\\",\\\"python_version\\\":\\\"3.11.13\\\"},\\\"testing_temperature\\\":1}\"\n",
       "   repo_id: \"repo/lehigh-nhi\"\n",
       "   size: 0\n",
       "   ext_auto: true\n",
       "   ct: 1752339783\n",
       "   ut: 1752339783\n",
       "   owner: \"p/2025-isaf-pfm\"\n",
       "   creator: \"u/jca318\"\n",
       "   parent_id: \"c/525611208\"\n",
       " },\n",
       " 'RecordDataReply')"
      ]
     },
     "execution_count": 28,
     "metadata": {},
     "output_type": "execute_result"
    }
   ],
   "source": [
    "# Because we are working in a shared project we will append\n",
    "# our usernames to the alias to avoid name collisions\n",
    "dc_resp = df_api.dataCreate('Public-data-record', # title - required\n",
    " alias=\"personal-data-\" + username,\n",
    " metadata=json.dumps(parameters), # optional\n",
    " tags=[\"material\"],\n",
    " parent_id=col_id_username, # The parent collection\n",
    " )\n",
    "\n",
    "dc_resp"
   ]
  },
  {
   "cell_type": "code",
   "execution_count": 31,
   "metadata": {
    "colab": {
     "base_uri": "https://localhost:8080/"
    },
    "id": "sJC-PlGhlzSP",
    "outputId": "ff45c809-d15e-46e2-e308-5b3ca212b094",
    "tags": [
     "skip-execution"
    ]
   },
   "outputs": [
    {
     "name": "stdout",
     "output_type": "stream",
     "text": [
      "(item {\n",
      "  id: \"d/525680146\"\n",
      "  title: \"Public-data-record_525680146\"\n",
      "  size: 0\n",
      "  owner: \"p/2025-isaf-pfm\"\n",
      "}\n",
      "task {\n",
      "  id: \"task/525870005\"\n",
      "  type: TT_DATA_PUT\n",
      "  status: TS_BLOCKED\n",
      "  client: \"u/jca318\"\n",
      "  step: 0\n",
      "  steps: 2\n",
      "  msg: \"Queued\"\n",
      "  ct: 1752339986\n",
      "  ut: 1752339986\n",
      "  source: \"2c4afb2a-9aa3-11ec-bf8a-ab28bf5d96bb/Users/joshuaagar/Globus-Personal-Docker/notes.md\"\n",
      "  dest: \"d/525680146\"\n",
      "}\n",
      ", 'DataPutReply')\n"
     ]
    }
   ],
   "source": [
    "personal_endpoint = \"2c4afb2a-9aa3-11ec-bf8a-ab28bf5d96bb\"\n",
    "path_to_file_on_personal_endpoint = \"/Users/joshuaagar/Globus-Personal-Docker/notes.md\"\n",
    "\n",
    "response = df_api.dataPut(\"personal-data-\" + username, personal_endpoint + path_to_file_on_personal_endpoint)\n",
    "\n",
    "response = df_api.dataPut(\"personal-data-\" + username, personal_endpoint + path_to_file_on_personal_endpoint)\n",
    "print(response)"
   ]
  },
  {
   "cell_type": "code",
   "execution_count": 33,
   "metadata": {
    "id": "-PjRBPdgu1-7",
    "tags": [
     "skip-execution"
    ]
   },
   "outputs": [],
   "source": [
    "parameters = {\n",
    "  'testing_temperature': 100,\n",
    "  'voltage': [10000, 500],\n",
    "  'creator': 'Dwalin Oakenshield',\n",
    "  'occupation': 'smith',\n",
    "  'equipment_serial_numbers': {\n",
    "  'Hammer': 23454, # Can use nested dictionaries\n",
    "  'Forge': 9452\n",
    "  }\n",
    " }\n"
   ]
  },
  {
   "cell_type": "code",
   "execution_count": 34,
   "metadata": {
    "colab": {
     "base_uri": "https://localhost:8080/"
    },
    "id": "63eoRTvdwCEg",
    "outputId": "62a91b93-dad9-451e-d930-0d654b093acb",
    "tags": [
     "skip-execution"
    ]
   },
   "outputs": [
    {
     "data": {
      "text/plain": [
       "(data {\n",
       "   id: \"d/525680147\"\n",
       "   title: \"Mythril\"\n",
       "   alias: \"linked-datajca318-2\"\n",
       "   tags: \"material\"\n",
       "   metadata: \"{\\\"creator\\\":\\\"Dwalin Oakenshield\\\",\\\"equipment_serial_numbers\\\":{\\\"Forge\\\":9452,\\\"Hammer\\\":23454},\\\"occupation\\\":\\\"smith\\\",\\\"testing_temperature\\\":100,\\\"voltage\\\":[10000,500]}\"\n",
       "   external: true\n",
       "   source: \"82f1b5c6-6e9b-11e5-ba47-22000b92c6ec/foundry/double_perovskite_bandgap_v1.1/Dataset_double_perovskites_gap_v1.csv\"\n",
       "   size: 1048576\n",
       "   ct: 1752340105\n",
       "   ut: 1752340105\n",
       "   owner: \"p/2025-isaf-pfm\"\n",
       "   creator: \"u/jca318\"\n",
       "   parent_id: \"c/525611208\"\n",
       " },\n",
       " 'RecordDataReply')"
      ]
     },
     "execution_count": 34,
     "metadata": {},
     "output_type": "execute_result"
    }
   ],
   "source": [
    "dc_resp = df_api.dataCreate('Mythril', # title - required\n",
    " alias=\"linked-data\" + username,\n",
    " metadata=json.dumps(parameters), # optional\n",
    " tags=[\"material\"],\n",
    " parent_id=col_id_username, # The parent collection\n",
    " raw_data_file=endpoint + path_to_file,\n",
    " external=True\n",
    " )\n",
    "dc_resp"
   ]
  },
  {
   "cell_type": "code",
   "execution_count": 35,
   "metadata": {
    "colab": {
     "base_uri": "https://localhost:8080/"
    },
    "id": "5WTAHWYnwJlH",
    "outputId": "961bb3f8-4cda-490c-bfe7-464af0e1e8d5",
    "tags": [
     "skip-execution"
    ]
   },
   "outputs": [
    {
     "name": "stdout",
     "output_type": "stream",
     "text": [
      "Set Endpoint\n",
      "2c4afb2a-9aa3-11ec-bf8a-ab28bf5d96bb\n",
      "\n",
      "Task\n",
      "(task {\n",
      "  id: \"task/525870006\"\n",
      "  type: TT_DATA_GET\n",
      "  status: TS_SUCCEEDED\n",
      "  client: \"u/jca318\"\n",
      "  step: 2\n",
      "  steps: 3\n",
      "  msg: \"Finished\"\n",
      "  ct: 1752340185\n",
      "  ut: 1752340196\n",
      "  source: \"d/525680145\"\n",
      "  dest: \"2c4afb2a-9aa3-11ec-bf8a-ab28bf5d96bb/Users/joshuaagar/blah\"\n",
      "}\n",
      ", 'TaskDataReply')\n"
     ]
    }
   ],
   "source": [
    "# Replace this with your own Globus connect UUID\n",
    "my_personal_laptop_globus_uuid = \"2c4afb2a-9aa3-11ec-bf8a-ab28bf5d96bb\"\n",
    "# Path on my personal laptop where I want to download the data\n",
    "path_on_personal_laptop = \"/Users/joshuaagar/blah/\"\n",
    "\n",
    "df_api.endpointSet(my_personal_laptop_globus_uuid)\n",
    "print('Set Endpoint')\n",
    "print(df_api.endpointGet())\n",
    "\n",
    "get_resp = df_api.dataGet(\"public-data-\" + username,\n",
    " path=path_on_personal_laptop,\n",
    " wait=True, # Wait until Globus transfer completes\n",
    " orig_fname=True # Name the file the same name it had when it was uploaded\n",
    " )\n",
    "\n",
    "print('\\nTask')\n",
    "print(get_resp)\n"
   ]
  },
  {
   "cell_type": "code",
   "execution_count": 37,
   "metadata": {
    "colab": {
     "base_uri": "https://localhost:8080/"
    },
    "id": "Bmxq5ncFw9Ys",
    "outputId": "a5d19e4f-4802-48fa-8f71-29bd165860e5",
    "tags": [
     "skip-execution"
    ]
   },
   "outputs": [
    {
     "name": "stdout",
     "output_type": "stream",
     "text": [
      "(data {\n",
      "  id: \"d/525680145\"\n",
      "  title: \"Public-data-record\"\n",
      "  alias: \"public-data-jca318-2\"\n",
      "  tags: \"material\"\n",
      "  metadata: \"{\\\"creator\\\":\\\"Lex Luther\\\",\\\"equipment_serial_numbers\\\":{\\\"AFM\\\":-19,\\\"SEM\\\":14},\\\"occupation\\\":\\\"super villian\\\",\\\"testing_temperature\\\":900000,\\\"voltage\\\":[1,2,-4,7.123]}\"\n",
      "  source: \"82f1b5c6-6e9b-11e5-ba47-22000b92c6ec/foundry/double_perovskite_bandgap_v1.1/Dataset_double_perovskites_gap_v1.csv\"\n",
      "  repo_id: \"repo/lehigh-nhi\"\n",
      "  size: 90668\n",
      "  ext: \".csv\"\n",
      "  ext_auto: true\n",
      "  ct: 1752338045\n",
      "  ut: 1752339123\n",
      "  dt: 1752339123\n",
      "  owner: \"p/2025-isaf-pfm\"\n",
      "  creator: \"u/jca318\"\n",
      "  notes: 0\n",
      "}\n",
      ", 'RecordDataReply')\n"
     ]
    }
   ],
   "source": [
    "result = df_api.dataView(\"public-data-\" + username)\n",
    "print(result)"
   ]
  },
  {
   "cell_type": "code",
   "execution_count": 38,
   "metadata": {
    "colab": {
     "base_uri": "https://localhost:8080/"
    },
    "id": "9sjpG-ZeC3FE",
    "outputId": "cd381492-28fa-42eb-89f9-b0bf4fb1dad5",
    "tags": [
     "skip-execution"
    ]
   },
   "outputs": [
    {
     "name": "stdout",
     "output_type": "stream",
     "text": [
      "{'creator': 'Lex Luther', 'equipment_serial_numbers': {'AFM': -19, 'SEM': 14}, 'occupation': 'super villian', 'testing_temperature': 900000, 'voltage': [1, 2, -4, 7.123]}\n"
     ]
    }
   ],
   "source": [
    "custom_metadata = json.loads(result[0].data[0].metadata)\n",
    "print(custom_metadata)"
   ]
  }
 ],
 "metadata": {
  "colab": {
   "provenance": []
  },
  "kernelspec": {
   "display_name": "isaf",
   "language": "python",
   "name": "python3"
  },
  "language_info": {
   "codemirror_mode": {
    "name": "ipython",
    "version": 3
   },
   "file_extension": ".py",
   "mimetype": "text/x-python",
   "name": "python",
   "nbconvert_exporter": "python",
   "pygments_lexer": "ipython3",
   "version": "3.11.13"
  }
 },
 "nbformat": 4,
 "nbformat_minor": 0
}